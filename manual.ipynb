{
 "cells": [
  {
   "cell_type": "markdown",
   "metadata": {},
   "source": [
    "git --version"
   ]
  },
  {
   "cell_type": "markdown",
   "metadata": {},
   "source": [
    "git config --global user.name \"ical\"\n",
    "git config --global user.email “nukical@gmail.com”\n",
    "\n",
    "# 確認\n",
    "git config --global user.name\n",
    "git config --global user.email\n",
    "git config --global --list"
   ]
  },
  {
   "cell_type": "markdown",
   "metadata": {},
   "source": [
    "<!--  --> 到目標project資料夾\n",
    "\n",
    "# 生成.git\n",
    "git init\n",
    "\n",
    "# project內容\n",
    "git status\n",
    "\n",
    "# commit送進內容\n",
    "git add someCode.py\n",
    "git add .\n",
    "\n",
    "# 命名這次內容\n",
    "git commit -m \"name your commit\"\n",
    "\n",
    "# push推送內容(1)\n",
    "git push -u 'URL' master\n",
    "('URL' = https://gitlab.ical.tw/b1105129/test1207.git)\n",
    "\n",
    "# push推送內容(2)\n",
    "git remote add origin 'URL'\n",
    "git push -u origin master\n",
    "\n",
    "# 遠端 URL\n",
    "git remote add origin 'URL'\n",
    "git remote remove origin\n",
    "git remote -v"
   ]
  },
  {
   "cell_type": "markdown",
   "metadata": {},
   "source": [
    "# SSH\n",
    "ssh-keygen\n",
    "cat ~/.ssh/id_rsa.pub\n",
    "\n",
    "# 新增分支\n",
    "git branch master\n",
    "# 查看分支\n",
    "git branch -a\n",
    "# 刪除分支\n",
    "git branch --delete 0.2\n",
    "git fetch coworkers_repo coworkers/feature_branch\n",
    "\n",
    "# 下載合併\n",
    "git clone -b master 'URL' # 只載master\n",
    "git pull origin master:master # 加裝\n",
    "git checkout -b master origin/master # 加裝+追蹤\n",
    "git pull origin master # 單純更新\n",
    "# 上傳合併\n",
    "git push (-u) origin master\n",
    "\n",
    "# 合併master到本地\n",
    "git merge master\n",
    "\n",
    "# 切換到0.2\n",
    "git checkout 0.2\n",
    "\n",
    "# merge log\n",
    "git log   #(q: exit)"
   ]
  }
 ],
 "metadata": {
  "language_info": {
   "name": "python"
  }
 },
 "nbformat": 4,
 "nbformat_minor": 2
}
